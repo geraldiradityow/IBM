{
    "cells": [
        {
            "cell_type": "markdown",
            "metadata": {
                "collapsed": true
            },
            "source": "<h1> My Jupyter Notebook on IBM Watson Studio </h1>"
        },
        {
            "cell_type": "markdown",
            "metadata": {},
            "source": "<b> My name is Geraldi radityo Wiwono </b>\n<p> My current occupation is IT Support Specialist and i aspire to become Data Scientist </p>"
        },
        {
            "cell_type": "markdown",
            "metadata": {},
            "source": "<i> I am interested in data science because it is the sexiest job in the 21st century. it just sold me instantly. I love math, analyzing and programming too.</i>"
        },
        {
            "cell_type": "markdown",
            "metadata": {},
            "source": "<h3> Next i will define a variable and print it </h3>"
        },
        {
            "cell_type": "code",
            "execution_count": 4,
            "metadata": {},
            "outputs": [
                {
                    "name": "stdout",
                    "output_type": "stream",
                    "text": "1000\n"
                }
            ],
            "source": "MyFirstVariable = 1000\n\nprint(MyFirstVariable)"
        },
        {
            "cell_type": "markdown",
            "metadata": {},
            "source": "<hr> \n\n<ul>\n<li> list item 1\n<li> list item 2\n<li> list item 3\n</ul>\n\n<ol>\n<li> list item 1\n<li> list item 2\n<li> list item 3\n</ol>\n\n<strike>This is struck through text</strike>\n\n <img src=\"https://www.w3schools.com/images/w3schools_green.jpg\" alt=\"W3Schools.com\"> "
        },
        {
            "cell_type": "code",
            "execution_count": null,
            "metadata": {},
            "outputs": [],
            "source": ""
        },
        {
            "cell_type": "code",
            "execution_count": null,
            "metadata": {},
            "outputs": [],
            "source": ""
        },
        {
            "cell_type": "code",
            "execution_count": null,
            "metadata": {},
            "outputs": [],
            "source": ""
        }
    ],
    "metadata": {
        "kernelspec": {
            "display_name": "Python 3.9",
            "language": "python",
            "name": "python3"
        },
        "language_info": {
            "codemirror_mode": {
                "name": "ipython",
                "version": 3
            },
            "file_extension": ".py",
            "mimetype": "text/x-python",
            "name": "python",
            "nbconvert_exporter": "python",
            "pygments_lexer": "ipython3",
            "version": "3.9.7"
        }
    },
    "nbformat": 4,
    "nbformat_minor": 1
}