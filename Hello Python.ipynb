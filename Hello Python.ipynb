{
    "cells": [
        {
            "cell_type": "code",
            "execution_count": 1,
            "metadata": {},
            "outputs": [
                {
                    "name": "stdout",
                    "output_type": "stream",
                    "text": "Hello, Python!\n"
                }
            ],
            "source": "print('Hello, Python!') # This line prints a string\n"
        },
        {
            "cell_type": "code",
            "execution_count": 2,
            "metadata": {},
            "outputs": [
                {
                    "name": "stdout",
                    "output_type": "stream",
                    "text": "This will be printed\n"
                },
                {
                    "ename": "NameError",
                    "evalue": "name 'frint' is not defined",
                    "output_type": "error",
                    "traceback": [
                        "\u001b[0;31m---------------------------------------------------------------------------\u001b[0m",
                        "\u001b[0;31mNameError\u001b[0m                                 Traceback (most recent call last)",
                        "\u001b[0;32m/tmp/wsuser/ipykernel_227/2522101595.py\u001b[0m in \u001b[0;36m<module>\u001b[0;34m\u001b[0m\n\u001b[1;32m      1\u001b[0m \u001b[0mprint\u001b[0m\u001b[0;34m(\u001b[0m\u001b[0;34m\"This will be printed\"\u001b[0m\u001b[0;34m)\u001b[0m\u001b[0;34m\u001b[0m\u001b[0;34m\u001b[0m\u001b[0m\n\u001b[0;32m----> 2\u001b[0;31m \u001b[0mfrint\u001b[0m\u001b[0;34m(\u001b[0m\u001b[0;34m\"This will cause an error\"\u001b[0m\u001b[0;34m)\u001b[0m\u001b[0;34m\u001b[0m\u001b[0;34m\u001b[0m\u001b[0m\n\u001b[0m\u001b[1;32m      3\u001b[0m \u001b[0mprint\u001b[0m\u001b[0;34m(\u001b[0m\u001b[0;34m\"This will NOT be printed\"\u001b[0m\u001b[0;34m)\u001b[0m\u001b[0;34m\u001b[0m\u001b[0;34m\u001b[0m\u001b[0m\n",
                        "\u001b[0;31mNameError\u001b[0m: name 'frint' is not defined"
                    ]
                }
            ],
            "source": "\nprint(\"This will be printed\")\nfrint(\"This will cause an error\")\nprint(\"This will NOT be printed\")"
        },
        {
            "cell_type": "code",
            "execution_count": 3,
            "metadata": {},
            "outputs": [
                {
                    "data": {
                        "text/plain": "'Hello, Python 101!'"
                    },
                    "execution_count": 3,
                    "metadata": {},
                    "output_type": "execute_result"
                }
            ],
            "source": "# String\n\n\"Hello, Python 101!\"\n"
        },
        {
            "cell_type": "code",
            "execution_count": 5,
            "metadata": {},
            "outputs": [
                {
                    "name": "stdout",
                    "output_type": "stream",
                    "text": "{'User-Agent': 'python-requests/2.26.0', 'Accept-Encoding': 'gzip, deflate, br', 'Accept': '*/*', 'Connection': 'keep-alive', 'Cookie': '_abck=40645E28FBF735E73D0DF6FF6BE3B54F~-1~YAAQhAcsF/2oggeAAQAASTyTMQd63bEmeeW0d+NL7gC+uC8j6SM21xL9X6QxINS9pnD4ylOCa7mhwq3gA68ux5epz0HwcC59mO9vwpOa4dRwVkLDDHol1Z1gNHrG9nnNXBNe3nXcgPWJgB5EVrWoGHtAUCN/hR8zLdwKgsQF1BM2oekI4euPIX3PZnkn+LRA7851ReypvRa7mJYr4xYvRwZBISFXTN2DKEvqs52tseJ2hhn85keFAaODMiCGqrWOYPkgPTmMUIHw334Okyvf7xJTdnSX9pZcgyHEKGvzs4kiNv85fz8va7NuZUeTQdbid8rG+clfAmVQlb3QHrCCweTFKH/aatJbiRMcpeTCNpmVCUHLDB0=~-1~-1~-1; bm_sz=4EB9B9A4007FDCBCB26046E2A23F0725~YAAQhAcsF/6oggeAAQAASTyTMQ8Nhpal1I4ZTKHNSkehMVNzISyg4CzpsVnK3mH1kiQFHsAVaM8BPUZ+gwGDVKPkWr6CJElJCS+fWwH5TsxWHTwzVwi0sPnwlP7PlDJs/IImVQNp9UN5mLnifLpRGtP2P/habFIwBAha97U7HfCrW5Pcd0XlVLGvCAG1xfOSjGvWjGNlqC9YnEy+2kTnUgTnJAytrEBmXuqU2DHy5AgCsNEx09K/2DrjbY/w0WwQLKtZT6UlqPZ+LxtYmzwXIrRzqDGgkmNzf3edmRkmr/Q=~4337985~4408646'}\nrequest body: None\n{'Server': 'Apache', 'x-drupal-dynamic-cache': 'UNCACHEABLE', 'Link': '<https://www.ibm.com/jp-ja>; rel=\"canonical\", <https://www.ibm.com/jp-ja>; rel=\"revision\", <//1.cms.s81c.com>; rel=preconnect; crossorigin, <//1.cms.s81c.com>; rel=dns-prefetch', 'x-ua-compatible': 'IE=edge', 'Content-Language': 'ja-jp', 'Permissions-Policy': 'interest-cohort=()', 'x-generator': 'Drupal 9 (https://www.drupal.org)', 'x-dns-prefetch-control': 'on', 'x-drupal-cache': 'MISS', 'Last-Modified': 'Fri, 15 Apr 2022 21:40:06 GMT', 'ETag': '\"1650058806\"', 'Content-Type': 'text/html; charset=UTF-8', 'x-acquia-host': 'www.ibm.com', 'x-acquia-path': '/jp-ja', 'x-acquia-site': '', 'x-acquia-purge-tags': '', 'x-varnish': '823391648', 'x-age': '0', 'Accept-Ranges': 'bytes', 'Content-Encoding': 'gzip', 'Cache-Control': 'public, max-age=300', 'Expires': 'Sat, 16 Apr 2022 08:57:55 GMT', 'X-Akamai-Transformed': '9 10444 0 pmb=mTOE,1', 'Date': 'Sat, 16 Apr 2022 08:52:55 GMT', 'Content-Length': '10530', 'Connection': 'keep-alive', 'Vary': 'Accept-Encoding', 'x-content-type-options': 'nosniff', 'X-XSS-Protection': '1; mode=block', 'Content-Security-Policy': 'upgrade-insecure-requests', 'Strict-Transport-Security': 'max-age=31536000', 'x-ibm-trace': 'www-dipatcher: dynamic rule'}\n"
                },
                {
                    "data": {
                        "text/plain": "'text/html; charset=UTF-8'"
                    },
                    "execution_count": 5,
                    "metadata": {},
                    "output_type": "execute_result"
                }
            ],
            "source": "import requests\nimport os \nfrom PIL import Image\nfrom IPython.display import IFrame\n\nurl='https://www.ibm.com/'\nr=requests.get(url)\n\nr.status_code\n\nprint(r.request.headers)\nprint(\"request body:\", r.request.body)\nheader=r.headers\nprint(r.headers)\nheader['date']\nheader['Content-Type']"
        },
        {
            "cell_type": "code",
            "execution_count": null,
            "metadata": {},
            "outputs": [],
            "source": ""
        }
    ],
    "metadata": {
        "kernelspec": {
            "display_name": "Python 3.9",
            "language": "python",
            "name": "python3"
        },
        "language_info": {
            "codemirror_mode": {
                "name": "ipython",
                "version": 3
            },
            "file_extension": ".py",
            "mimetype": "text/x-python",
            "name": "python",
            "nbconvert_exporter": "python",
            "pygments_lexer": "ipython3",
            "version": "3.9.7"
        }
    },
    "nbformat": 4,
    "nbformat_minor": 1
}